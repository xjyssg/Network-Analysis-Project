{
 "cells": [
  {
   "cell_type": "code",
   "execution_count": 1,
   "metadata": {},
   "outputs": [],
   "source": [
    "import numpy as np\n",
    "import networkx as nx\n",
    "import matplotlib.pyplot as plt\n",
    "from itertools import islice"
   ]
  },
  {
   "cell_type": "code",
   "execution_count": 2,
   "metadata": {},
   "outputs": [],
   "source": [
    "G = nx.read_edgelist(path = \"Network-Analysis-Project/citation.edgelist\", create_using=nx.DiGraph())\n",
    "#G = nx.read_edgelist(path = \"test.edgelist\", create_using=nx.DiGraph())"
   ]
  },
  {
   "cell_type": "code",
   "execution_count": 3,
   "metadata": {},
   "outputs": [],
   "source": [
    "# compute centrality (degree, betweenness, closeness) of nodes\n",
    "def centrality(G, k = None, normalized = True, distance=None, seed=None):\n",
    "    centrality = {}\n",
    "    centrality[\"degree\"] = nx.degree_centrality(G)\n",
    "    centrality[\"inDegree\"] = nx.in_degree_centrality(G)\n",
    "    centrality[\"outDegree\"] = nx.out_degree_centrality(G)\n",
    "    centrality[\"betweeness\"] = nx.betweenness_centrality(G, k=k, normalized=normalized, seed=seed)\n",
    "    centrality[\"closeness\"] = nx.closeness_centrality(G, distance=distance)\n",
    "    return centrality\n"
   ]
  },
  {
   "cell_type": "code",
   "execution_count": 4,
   "metadata": {},
   "outputs": [],
   "source": [
    "centrality = centrality(G, seed = 123)"
   ]
  },
  {
   "cell_type": "code",
   "execution_count": 6,
   "metadata": {
    "scrolled": true
   },
   "outputs": [
    {
     "data": {
      "text/plain": [
       "27770"
      ]
     },
     "execution_count": 6,
     "metadata": {},
     "output_type": "execute_result"
    }
   ],
   "source": [
    "len(centrality[\"outDegree\"])"
   ]
  },
  {
   "cell_type": "code",
   "execution_count": null,
   "metadata": {},
   "outputs": [],
   "source": [
    "# "
   ]
  },
  {
   "cell_type": "code",
   "execution_count": 8,
   "metadata": {
    "scrolled": true
   },
   "outputs": [],
   "source": [
    "import pickle\n",
    "pickle.dump( centrality, open( \"centrality.pkl\", \"wb\" ) )"
   ]
  },
  {
   "cell_type": "code",
   "execution_count": 9,
   "metadata": {},
   "outputs": [],
   "source": [
    "def getModularity(gn, max_iter = 5):    \n",
    "    modularity = []\n",
    "    gn_list = []\n",
    "    for communities in islice(gn, max_iter):\n",
    "        gn_list.append(tuple(sorted(c) for c in communities))\n",
    "        \n",
    "    k = 0\n",
    "    while k < max_iter: \n",
    "        gn_communities = gn_list[k]\n",
    "        mod = nx.algorithms.community.modularity(G, gn_communities)\n",
    "        modularity.append(mod)\n",
    "        k = k + 1\n",
    "    return(modularity)            "
   ]
  },
  {
   "cell_type": "code",
   "execution_count": 10,
   "metadata": {},
   "outputs": [],
   "source": [
    "# Graph partition\n",
    "gn_generator = nx.algorithms.community.centrality.girvan_newman(G)"
   ]
  },
  {
   "cell_type": "code",
   "execution_count": null,
   "metadata": {},
   "outputs": [],
   "source": [
    "gn_generator = nx.algorithms.community.centrality.girvan_newman(G)\n",
    "modularity = getModularity(gn_generator)\n",
    "mod_best = max(modularity) "
   ]
  },
  {
   "cell_type": "code",
   "execution_count": 31,
   "metadata": {},
   "outputs": [
    {
     "data": {
      "text/plain": [
       "4"
      ]
     },
     "execution_count": 31,
     "metadata": {},
     "output_type": "execute_result"
    }
   ],
   "source": [
    "# modularity.index(mod_best)"
   ]
  },
  {
   "cell_type": "code",
   "execution_count": null,
   "metadata": {
    "scrolled": false
   },
   "outputs": [],
   "source": [
    "gn_communities_best = next(islice(gn_generator, modularity.index(mod_best),None) )\n",
    "    \n",
    "gn_dict_communities = {}\n",
    "for i, c in enumerate(gn_communities_best):\n",
    "    print (\"Community {}\".format(i))\n",
    "    for node in c:\n",
    "        gn_dict_communities[node] = i + 1\n",
    "        \n",
    "for node in G:\n",
    "    if node not in gn_dict_communities.keys():\n",
    "        gn_dict_communities[node] = -1\n"
   ]
  },
  {
   "cell_type": "code",
   "execution_count": 50,
   "metadata": {},
   "outputs": [
    {
     "name": "stderr",
     "output_type": "stream",
     "text": [
      "/home/kaizhang/anaconda3/lib/python3.7/site-packages/networkx/drawing/nx_pylab.py:563: MatplotlibDeprecationWarning: \n",
      "The iterable function was deprecated in Matplotlib 3.1 and will be removed in 3.3. Use np.iterable instead.\n",
      "  if not cb.iterable(width):\n",
      "/home/kaizhang/anaconda3/lib/python3.7/site-packages/networkx/drawing/nx_pylab.py:660: MatplotlibDeprecationWarning: \n",
      "The iterable function was deprecated in Matplotlib 3.1 and will be removed in 3.3. Use np.iterable instead.\n",
      "  if cb.iterable(node_size):  # many node sizes\n"
     ]
    },
    {
     "data": {
      "image/png": "[encoded data removed]",
      "text/plain": [
       "<Figure size 432x288 with 1 Axes>"
      ]
     },
     "metadata": {},
     "output_type": "display_data"
    }
   ],
   "source": [
    "from matplotlib.colors import ListedColormap\n",
    "nx.draw(G, with_labels=False, node_size=100, node_color=list(gn_dict_communities.values()), pos=nx.spectral_layout(G), cmap = ListedColormap(['r','b','g', 'y']))\n",
    "\n",
    "#gn_pos = community_layout(G, gn_dict_communities) # Manually creating layout\n",
    "#from matplotlib import cm\n",
    "#gn_colors = []\n",
    "#for node in G.nodes:\n",
    "#    gn_colors.append(cm.Set1(gn_dict_communities[node]))\n",
    "    \n",
    "#plt.figure(figsize=(10,10))\n",
    "#nx.draw_networkx_nodes(G, gn_pos, node_color=gn_colors, node_size=100)\n",
    "#nx.draw_networkx_edges(G, gn_pos, alpha=0.7)\n",
    "#plt.axis('off')\n",
    "#plt.show()"
   ]
  }
 ],
 "metadata": {
  "kernelspec": {
   "display_name": "Python 3",
   "language": "python",
   "name": "python3"
  },
  "language_info": {
   "codemirror_mode": {
    "name": "ipython",
    "version": 3
   },
   "file_extension": ".py",
   "mimetype": "text/x-python",
   "name": "python",
   "nbconvert_exporter": "python",
   "pygments_lexer": "ipython3",
   "version": "3.7.2"
  }
 },
 "nbformat": 4,
 "nbformat_minor": 2
}
