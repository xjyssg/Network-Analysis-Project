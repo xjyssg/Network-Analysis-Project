{
 "cells": [
  {
   "cell_type": "code",
   "execution_count": 1,
   "metadata": {},
   "outputs": [],
   "source": [
    "import pickle\n",
    "import numpy as np\n",
    "import networkx as nx\n",
    "import matplotlib.pyplot as plt\n",
    "import scipy\n",
    "import warnings\n",
    "import random\n",
    "import sklearn.metrics\n",
    "import pandas as pd\n",
    "from sklearn.model_selection import train_test_split\n",
    "from sklearn.ensemble import RandomForestClassifier\n",
    "from sklearn.model_selection import RandomizedSearchCV\n",
    "from collections import defaultdict\n",
    "from sklearn.metrics import roc_curve, auc\n",
    "warnings.filterwarnings('ignore')"
   ]
  },
  {
   "cell_type": "code",
   "execution_count": 30,
   "metadata": {},
   "outputs": [],
   "source": [
    "# load the network and centrality\n",
    "DiG = nx.read_edgelist(path = \"Network-Analysis-Project/citation.edgelist\", create_using=nx.DiGraph())\n",
    "#DiG = nx.read_edgelist(path = \"../test.edgelist\", create_using=nx.DiGraph())"
   ]
  },
  {
   "cell_type": "code",
   "execution_count": 31,
   "metadata": {},
   "outputs": [],
   "source": [
    "# remove self loops \n",
    "selfloops = DiG.selfloop_edges()\n",
    "DiG.remove_edges_from(selfloops)"
   ]
  },
  {
   "cell_type": "code",
   "execution_count": 32,
   "metadata": {
    "scrolled": true
   },
   "outputs": [
    {
     "name": "stdout",
     "output_type": "stream",
     "text": [
      "Name: \n",
      "Type: DiGraph\n",
      "Number of nodes: 27770\n",
      "Number of edges: 352768\n",
      "Average in degree:  12.7032\n",
      "Average out degree:  12.7032\n"
     ]
    }
   ],
   "source": [
    "print(nx.info(DiG))"
   ]
  },
  {
   "cell_type": "code",
   "execution_count": 33,
   "metadata": {},
   "outputs": [
    {
     "data": {
      "image/png": "[encoded data removed]",
      "text/plain": [
       "<Figure size 720x432 with 1 Axes>"
      ]
     },
     "metadata": {
      "needs_background": "light"
     },
     "output_type": "display_data"
    }
   ],
   "source": [
    "# citations\n",
    "indegree_dist = list(dict(DiG.in_degree()).values())\n",
    "indegree_dist.sort()\n",
    "plt.figure(figsize=(10,6))\n",
    "plt.plot(indegree_dist)\n",
    "plt.xlabel('Index No')\n",
    "plt.ylabel('No of citations')\n",
    "plt.show()"
   ]
  },
  {
   "cell_type": "code",
   "execution_count": 34,
   "metadata": {
    "scrolled": true
   },
   "outputs": [
    {
     "data": {
      "image/png": "[encoded data removed]",
      "text/plain": [
       "<Figure size 720x432 with 1 Axes>"
      ]
     },
     "metadata": {
      "needs_background": "light"
     },
     "output_type": "display_data"
    }
   ],
   "source": [
    "outdegree_dist = list(dict(DiG.out_degree()).values())\n",
    "outdegree_dist.sort()\n",
    "plt.figure(figsize=(10,6))\n",
    "plt.plot(outdegree_dist)\n",
    "plt.xlabel('Index No')\n",
    "plt.ylabel('No Of references')\n",
    "plt.show()"
   ]
  },
  {
   "cell_type": "code",
   "execution_count": 35,
   "metadata": {},
   "outputs": [],
   "source": [
    "nEdges = DiG.number_of_edges()"
   ]
  },
  {
   "cell_type": "code",
   "execution_count": 53,
   "metadata": {},
   "outputs": [
    {
     "ename": "KeyboardInterrupt",
     "evalue": "",
     "output_type": "error",
     "traceback": [
      "\u001b[0;31m---------------------------------------------------------------------------\u001b[0m",
      "\u001b[0;31mKeyboardInterrupt\u001b[0m                         Traceback (most recent call last)",
      "\u001b[0;32m<ipython-input-53-614ba90d3436>\u001b[0m in \u001b[0;36m<module>\u001b[0;34m()\u001b[0m\n\u001b[1;32m      1\u001b[0m \u001b[0;31m# to create a balance dataset, randomly sample nEdges non-existing edges\u001b[0m\u001b[0;34m\u001b[0m\u001b[0;34m\u001b[0m\u001b[0;34m\u001b[0m\u001b[0m\n\u001b[1;32m      2\u001b[0m \u001b[0;31m# nonEdges = random.sample(list(nx.non_edges(DiG)), nEdges)\u001b[0m\u001b[0;34m\u001b[0m\u001b[0;34m\u001b[0m\u001b[0;34m\u001b[0m\u001b[0m\n\u001b[0;32m----> 3\u001b[0;31m \u001b[0mnonEdges\u001b[0m \u001b[0;34m=\u001b[0m \u001b[0miter_sample\u001b[0m\u001b[0;34m(\u001b[0m\u001b[0mnonEdges_all\u001b[0m\u001b[0;34m,\u001b[0m \u001b[0mnEdges\u001b[0m\u001b[0;34m)\u001b[0m\u001b[0;34m\u001b[0m\u001b[0;34m\u001b[0m\u001b[0m\n\u001b[0m",
      "\u001b[0;32m<ipython-input-52-1c5220c4f18c>\u001b[0m in \u001b[0;36miter_sample\u001b[0;34m(iterable, samplesize)\u001b[0m\n\u001b[1;32m     10\u001b[0m     \u001b[0mrandom\u001b[0m\u001b[0;34m.\u001b[0m\u001b[0mshuffle\u001b[0m\u001b[0;34m(\u001b[0m\u001b[0mresults\u001b[0m\u001b[0;34m)\u001b[0m  \u001b[0;31m# Randomize their positions\u001b[0m\u001b[0;34m\u001b[0m\u001b[0;34m\u001b[0m\u001b[0m\n\u001b[1;32m     11\u001b[0m     \u001b[0;32mfor\u001b[0m \u001b[0mi\u001b[0m\u001b[0;34m,\u001b[0m \u001b[0mv\u001b[0m \u001b[0;32min\u001b[0m \u001b[0menumerate\u001b[0m\u001b[0;34m(\u001b[0m\u001b[0miterator\u001b[0m\u001b[0;34m,\u001b[0m \u001b[0msamplesize\u001b[0m\u001b[0;34m)\u001b[0m\u001b[0;34m:\u001b[0m\u001b[0;34m\u001b[0m\u001b[0;34m\u001b[0m\u001b[0m\n\u001b[0;32m---> 12\u001b[0;31m         \u001b[0mr\u001b[0m \u001b[0;34m=\u001b[0m \u001b[0mrandom\u001b[0m\u001b[0;34m.\u001b[0m\u001b[0mrandint\u001b[0m\u001b[0;34m(\u001b[0m\u001b[0;36m0\u001b[0m\u001b[0;34m,\u001b[0m \u001b[0mi\u001b[0m\u001b[0;34m)\u001b[0m\u001b[0;34m\u001b[0m\u001b[0;34m\u001b[0m\u001b[0m\n\u001b[0m\u001b[1;32m     13\u001b[0m         \u001b[0;32mif\u001b[0m \u001b[0mr\u001b[0m \u001b[0;34m<\u001b[0m \u001b[0msamplesize\u001b[0m\u001b[0;34m:\u001b[0m\u001b[0;34m\u001b[0m\u001b[0;34m\u001b[0m\u001b[0m\n\u001b[1;32m     14\u001b[0m             \u001b[0mresults\u001b[0m\u001b[0;34m[\u001b[0m\u001b[0mr\u001b[0m\u001b[0;34m]\u001b[0m \u001b[0;34m=\u001b[0m \u001b[0mv\u001b[0m  \u001b[0;31m# at a decreasing rate, replace random items\u001b[0m\u001b[0;34m\u001b[0m\u001b[0;34m\u001b[0m\u001b[0m\n",
      "\u001b[0;32m~/anaconda3/lib/python3.7/random.py\u001b[0m in \u001b[0;36mrandint\u001b[0;34m(self, a, b)\u001b[0m\n\u001b[1;32m    220\u001b[0m         \"\"\"\n\u001b[1;32m    221\u001b[0m \u001b[0;34m\u001b[0m\u001b[0m\n\u001b[0;32m--> 222\u001b[0;31m         \u001b[0;32mreturn\u001b[0m \u001b[0mself\u001b[0m\u001b[0;34m.\u001b[0m\u001b[0mrandrange\u001b[0m\u001b[0;34m(\u001b[0m\u001b[0ma\u001b[0m\u001b[0;34m,\u001b[0m \u001b[0mb\u001b[0m\u001b[0;34m+\u001b[0m\u001b[0;36m1\u001b[0m\u001b[0;34m)\u001b[0m\u001b[0;34m\u001b[0m\u001b[0;34m\u001b[0m\u001b[0m\n\u001b[0m\u001b[1;32m    223\u001b[0m \u001b[0;34m\u001b[0m\u001b[0m\n\u001b[1;32m    224\u001b[0m     def _randbelow(self, n, int=int, maxsize=1<<BPF, type=type,\n",
      "\u001b[0;32m~/anaconda3/lib/python3.7/random.py\u001b[0m in \u001b[0;36mrandrange\u001b[0;34m(self, start, stop, step, _int)\u001b[0m\n\u001b[1;32m    195\u001b[0m             \u001b[0;32mraise\u001b[0m \u001b[0mValueError\u001b[0m\u001b[0;34m(\u001b[0m\u001b[0;34m\"non-integer stop for randrange()\"\u001b[0m\u001b[0;34m)\u001b[0m\u001b[0;34m\u001b[0m\u001b[0;34m\u001b[0m\u001b[0m\n\u001b[1;32m    196\u001b[0m         \u001b[0mwidth\u001b[0m \u001b[0;34m=\u001b[0m \u001b[0mistop\u001b[0m \u001b[0;34m-\u001b[0m \u001b[0mistart\u001b[0m\u001b[0;34m\u001b[0m\u001b[0;34m\u001b[0m\u001b[0m\n\u001b[0;32m--> 197\u001b[0;31m         \u001b[0;32mif\u001b[0m \u001b[0mstep\u001b[0m \u001b[0;34m==\u001b[0m \u001b[0;36m1\u001b[0m \u001b[0;32mand\u001b[0m \u001b[0mwidth\u001b[0m \u001b[0;34m>\u001b[0m \u001b[0;36m0\u001b[0m\u001b[0;34m:\u001b[0m\u001b[0;34m\u001b[0m\u001b[0;34m\u001b[0m\u001b[0m\n\u001b[0m\u001b[1;32m    198\u001b[0m             \u001b[0;32mreturn\u001b[0m \u001b[0mistart\u001b[0m \u001b[0;34m+\u001b[0m \u001b[0mself\u001b[0m\u001b[0;34m.\u001b[0m\u001b[0m_randbelow\u001b[0m\u001b[0;34m(\u001b[0m\u001b[0mwidth\u001b[0m\u001b[0;34m)\u001b[0m\u001b[0;34m\u001b[0m\u001b[0;34m\u001b[0m\u001b[0m\n\u001b[1;32m    199\u001b[0m         \u001b[0;32mif\u001b[0m \u001b[0mstep\u001b[0m \u001b[0;34m==\u001b[0m \u001b[0;36m1\u001b[0m\u001b[0;34m:\u001b[0m\u001b[0;34m\u001b[0m\u001b[0;34m\u001b[0m\u001b[0m\n",
      "\u001b[0;31mKeyboardInterrupt\u001b[0m: "
     ]
    }
   ],
   "source": [
    "# to create a balance dataset, randomly sample nEdges non-existing edges \n",
    "nonEdges = random.sample(list(nx.non_edges(DiG)), nEdges)"
   ]
  },
  {
   "cell_type": "code",
   "execution_count": 59,
   "metadata": {},
   "outputs": [
    {
     "data": {
      "text/plain": [
       "352768"
      ]
     },
     "execution_count": 59,
     "metadata": {},
     "output_type": "execute_result"
    }
   ],
   "source": [
    "len(nonEdges)"
   ]
  },
  {
   "cell_type": "code",
   "execution_count": 54,
   "metadata": {},
   "outputs": [],
   "source": [
    "def pklDump(obj, file):\n",
    "    objF = open(file, 'wb')\n",
    "    pickle.dump(obj, objF)\n",
    "    objF.close()\n",
    "\n",
    "def pklLoad(file): \n",
    "    objF = open(file, 'rb')\n",
    "    obj = pickle.load(objF)\n",
    "    objF.close()\n",
    "    return obj"
   ]
  },
  {
   "cell_type": "code",
   "execution_count": 11,
   "metadata": {},
   "outputs": [],
   "source": [
    "pklDump( nonEdges, 'non_edges.pkl')"
   ]
  },
  {
   "cell_type": "code",
   "execution_count": 55,
   "metadata": {},
   "outputs": [],
   "source": [
    "nonEdges = pklLoad('non_edges.pkl')"
   ]
  },
  {
   "cell_type": "code",
   "execution_count": 60,
   "metadata": {},
   "outputs": [
    {
     "name": "stdout",
     "output_type": "stream",
     "text": [
      "existing :  352768\n",
      "missing :  352768\n"
     ]
    }
   ],
   "source": [
    "print(\"existing : \", str(nEdges))\n",
    "print(\"missing : \", str(len(nonEdges)))"
   ]
  },
  {
   "cell_type": "code",
   "execution_count": 61,
   "metadata": {},
   "outputs": [],
   "source": [
    "#Spiltted data, 80% for training and 20% for testing\n",
    "#positive links and negative links seperatly, we need positive training data for creating graph\n",
    "\n",
    "X_train_pos, X_test_pos, y_train_pos, y_test_pos  = train_test_split(list(DiG.edges()),np.ones(nEdges),test_size=0.2, random_state=9)\n",
    "X_train_neg, X_test_neg, y_train_neg, y_test_neg  = train_test_split(nonEdges,np.zeros(len(nonEdges)),test_size=0.2, random_state=9)"
   ]
  },
  {
   "cell_type": "code",
   "execution_count": 62,
   "metadata": {},
   "outputs": [],
   "source": [
    "train_g = nx.DiGraph()\n",
    "train_g.add_edges_from(X_train_pos)\n",
    "test_g = nx.DiGraph()\n",
    "test_g.add_edges_from(X_test_pos)"
   ]
  },
  {
   "cell_type": "code",
   "execution_count": 63,
   "metadata": {},
   "outputs": [
    {
     "data": {
      "text/plain": [
       "564428"
      ]
     },
     "execution_count": 63,
     "metadata": {},
     "output_type": "execute_result"
    }
   ],
   "source": [
    "len(X_train_pos + X_train_neg)"
   ]
  },
  {
   "cell_type": "code",
   "execution_count": 64,
   "metadata": {},
   "outputs": [],
   "source": [
    "# combine positive and negative edges \n",
    "X_train = X_train_pos + X_train_neg\n",
    "y_train = np.concatenate((y_train_pos,y_train_neg))\n",
    "X_test = X_test_pos + X_test_neg\n",
    "y_test = np.concatenate((y_test_pos,y_test_neg)) \n",
    "       \n",
    "X_train_df = pd.DataFrame(X_train, columns=[\"from\", \"to\"])\n",
    "X_test_df = pd.DataFrame(X_test, columns=[\"from\", \"to\"])"
   ]
  },
  {
   "cell_type": "code",
   "execution_count": 65,
   "metadata": {},
   "outputs": [],
   "source": [
    "# jaccard index\n",
    "# for out neighbors\n",
    "def jaccard_out(g, a, b):\n",
    "    try:\n",
    "        if len(set(g.successors(a))) == 0  | len(set(g.successors(b))) == 0:\n",
    "            return 0\n",
    "        sim = (len(set(g.successors(a)).intersection(set(g.successors(b)))))/\\\n",
    "                                    (len(set(g.successors(a)).union(set(g.successors(b)))))\n",
    "    except:\n",
    "        return 0\n",
    "    return sim\n",
    "\n",
    "# for in neighbors \n",
    "def jaccard_in(g, a, b):\n",
    "    try:\n",
    "        if len(set(g.predecessors(a))) == 0  | len(set(g.predecessors(b))) == 0:\n",
    "            return 0\n",
    "        sim = (len(set(g.predecessors(a)).intersection(set(g.predecessors(b)))))/\\\n",
    "                                 (len(set(g.predecessors(a)).union(set(g.predecessors(b)))))\n",
    "        return sim\n",
    "    except:\n",
    "        return 0"
   ]
  },
  {
   "cell_type": "code",
   "execution_count": 66,
   "metadata": {},
   "outputs": [],
   "source": [
    "# Adar Index\n",
    "def adar_in(g, a, b):\n",
    "    sum=0\n",
    "    try:\n",
    "        n=list(set(g.successors(a)).intersection(set(g.successors(b))))\n",
    "        if len(n)!=0:\n",
    "            for i in n:\n",
    "                sum=sum+(1/np.log10(len(list(g.predecessors(i)))))\n",
    "            return sum\n",
    "        else:\n",
    "            return 0\n",
    "    except:\n",
    "        return 0"
   ]
  },
  {
   "cell_type": "code",
   "execution_count": 67,
   "metadata": {},
   "outputs": [],
   "source": [
    "# features \n",
    "train_f = pd.DataFrame()\n",
    "test_f = pd.DataFrame()"
   ]
  },
  {
   "cell_type": "code",
   "execution_count": 68,
   "metadata": {},
   "outputs": [],
   "source": [
    "train_f['jaccard_in'] = X_train_df.apply(lambda row: jaccard_in(train_g, row['from'],row['to']),axis=1)\n",
    "test_f['jaccard_in'] = X_test_df.apply(lambda row: jaccard_in(test_g, row['from'],row['to']),axis=1)\n",
    "\n",
    "train_f['jaccard_out'] = X_train_df.apply(lambda row:jaccard_out(train_g, row['from'],row['to']),axis=1)\n",
    "test_f['jaccard_out'] = X_test_df.apply(lambda row:jaccard_out(test_g, row['from'],row['to']),axis=1)\n",
    "\n",
    "train_f['adar_in'] = X_train_df.apply(lambda row: adar_in(train_g, row['from'],row['to']),axis=1)\n",
    "test_f['adar_in'] = X_test_df.apply(lambda row: adar_in(test_g, row['from'],row['to']),axis=1)"
   ]
  },
  {
   "cell_type": "code",
   "execution_count": 69,
   "metadata": {},
   "outputs": [],
   "source": [
    "pklDump( train_f, 'train_features.pkl')\n",
    "pklDump( test_f, 'test_features.pkl')\n"
   ]
  },
  {
   "cell_type": "code",
   "execution_count": 70,
   "metadata": {},
   "outputs": [],
   "source": [
    "def compute_inOut(g, edgeDF):\n",
    "    in_s=[]\n",
    "    out_s=[]\n",
    "    in_d=[]\n",
    "    out_d=[]\n",
    "    in_inter=[]\n",
    "    out_inter=[]\n",
    "    for i,row in edgeDF.iterrows():\n",
    "        try:\n",
    "            s1=set(g.predecessors(row['from']))\n",
    "            s2=set(g.successors(row['from']))\n",
    "        except:\n",
    "            s1 = set()\n",
    "            s2 = set()\n",
    "        try:\n",
    "            d1=set(g.predecessors(row['to']))\n",
    "            d2=set(g.successors(row['to']))\n",
    "        except:\n",
    "            d1 = set()\n",
    "            d2 = set()\n",
    "        in_s.append(len(s1))\n",
    "        out_s.append(len(s2))\n",
    "\n",
    "        in_d.append(len(d1))\n",
    "        out_d.append(len(d2))\n",
    "\n",
    "        in_inter.append(len(s1.intersection(d1)))\n",
    "        out_inter.append(len(s2.intersection(d2)))\n",
    "    \n",
    "    return in_s, in_d, out_s, out_d, in_inter, out_inter"
   ]
  },
  {
   "cell_type": "code",
   "execution_count": 71,
   "metadata": {},
   "outputs": [],
   "source": [
    "train_f['in_s'], train_f['in_d'], \\\n",
    "train_f['out_s'], train_f['out_d'], \\\n",
    "train_f['in_inter'], train_f['out_inter']= compute_inOut(train_g, X_train_df)\n"
   ]
  },
  {
   "cell_type": "code",
   "execution_count": 72,
   "metadata": {},
   "outputs": [],
   "source": [
    "test_f['in_s'], test_f['in_d'], \\\n",
    "test_f['out_s'], test_f['out_d'], \\\n",
    "test_f['in_inter'], test_f['out_inter']= compute_inOut(test_g, X_test_df)"
   ]
  },
  {
   "cell_type": "code",
   "execution_count": 73,
   "metadata": {},
   "outputs": [],
   "source": [
    "pklDump( train_f, 'train_features.pkl')\n",
    "pklDump( test_f, 'test_features.pkl')"
   ]
  },
  {
   "cell_type": "code",
   "execution_count": 74,
   "metadata": {
    "scrolled": true
   },
   "outputs": [
    {
     "name": "stdout",
     "output_type": "stream",
     "text": [
      "False\n",
      "True\n",
      "Int64Index([], dtype='int64')\n",
      "Series([], dtype: object)\n"
     ]
    }
   ],
   "source": [
    "print(np.any(np.isnan(train_f)))\n",
    "print(np.all(np.isfinite(train_f)))\n",
    "\n",
    "print(train_f.index[np.isinf(train_f).any(1)])\n",
    "print(train_f.columns.to_series()[np.isinf(train_f).any()])"
   ]
  },
  {
   "cell_type": "code",
   "execution_count": 75,
   "metadata": {
    "scrolled": true
   },
   "outputs": [
    {
     "name": "stdout",
     "output_type": "stream",
     "text": [
      "mean test scores [0.92682633 0.92655485 0.92600897 0.92660994 0.92710654]\n",
      "RandomForestClassifier(bootstrap=True, class_weight=None, criterion='gini',\n",
      "                       max_depth=14, max_features='auto', max_leaf_nodes=None,\n",
      "                       min_impurity_decrease=0.0, min_impurity_split=None,\n",
      "                       min_samples_leaf=28, min_samples_split=111,\n",
      "                       min_weight_fraction_leaf=0.0, n_estimators=121,\n",
      "                       n_jobs=-1, oob_score=False, random_state=25, verbose=0,\n",
      "                       warm_start=False)\n"
     ]
    }
   ],
   "source": [
    "#training the model\n",
    "param_dist = {\"n_estimators\":scipy.stats.randint(105,125),\n",
    "              \"max_depth\": scipy.stats.randint(10,15),\n",
    "              \"min_samples_split\": scipy.stats.randint(110,190),\n",
    "              \"min_samples_leaf\": scipy.stats.randint(25,65)}\n",
    "\n",
    "clf = RandomForestClassifier(random_state=25, n_jobs=-1)\n",
    "\n",
    "rf_random = RandomizedSearchCV(clf, param_distributions=param_dist,\n",
    "                                   n_iter=5, cv=10,scoring='f1',random_state=25)\n",
    "\n",
    "rf_random.fit(train_f, y_train)\n",
    "print('mean test scores',rf_random.cv_results_['mean_test_score'])\n",
    "\n",
    "#checking the best parameters\n",
    "print(rf_random.best_estimator_)"
   ]
  },
  {
   "cell_type": "code",
   "execution_count": 76,
   "metadata": {},
   "outputs": [],
   "source": [
    "# bulid the model with best parameters\n",
    "clf = RandomForestClassifier(bootstrap=True, class_weight=None, criterion='gini',\n",
    "                       max_depth=14, max_features='auto', max_leaf_nodes=None,\n",
    "                       min_impurity_decrease=0.0, min_impurity_split=None,\n",
    "                       min_samples_leaf=28, min_samples_split=111,\n",
    "                       min_weight_fraction_leaf=0.0, n_estimators=121,\n",
    "                       n_jobs=-1, oob_score=False, random_state=25, verbose=0,\n",
    "                       warm_start=False)"
   ]
  },
  {
   "cell_type": "code",
   "execution_count": 77,
   "metadata": {},
   "outputs": [],
   "source": [
    "# Evaluation\n",
    "clf.fit(train_f, y_train)\n",
    "y_train_pred = clf.predict(train_f)\n",
    "y_test_pred = clf.predict(test_f)\n",
    "fpr,tpr,ths = roc_curve(y_test,y_test_pred)\n",
    "auc_sc = auc(fpr, tpr)"
   ]
  },
  {
   "cell_type": "code",
   "execution_count": 79,
   "metadata": {},
   "outputs": [
    {
     "data": {
      "text/plain": [
       "0.6741644697678375"
      ]
     },
     "execution_count": 79,
     "metadata": {},
     "output_type": "execute_result"
    }
   ],
   "source": [
    "auc_sc"
   ]
  },
  {
   "cell_type": "code",
   "execution_count": 78,
   "metadata": {},
   "outputs": [
    {
     "data": {
      "image/png": "[encoded data removed]",
      "text/plain": [
       "<Figure size 432x288 with 1 Axes>"
      ]
     },
     "metadata": {
      "needs_background": "light"
     },
     "output_type": "display_data"
    }
   ],
   "source": [
    "# plot ROC curve\n",
    "plt.clf()\n",
    "plt.plot(fpr, tpr, color='navy',label='ROC curve (area = %0.2f)' % auc_sc)\n",
    "plt.xlabel('False Positive Rate')\n",
    "plt.ylabel('True Positive Rate')\n",
    "plt.title('Receiver operating characteristic')\n",
    "plt.savefig(\"ROC.png\", dpi=200)"
   ]
  }
 ],
 "metadata": {
  "kernelspec": {
   "display_name": "Python 3",
   "language": "python",
   "name": "python3"
  },
  "language_info": {
   "codemirror_mode": {
    "name": "ipython",
    "version": 3
   },
   "file_extension": ".py",
   "mimetype": "text/x-python",
   "name": "python",
   "nbconvert_exporter": "python",
   "pygments_lexer": "ipython3",
   "version": "3.7.2"
  }
 },
 "nbformat": 4,
 "nbformat_minor": 2
}
