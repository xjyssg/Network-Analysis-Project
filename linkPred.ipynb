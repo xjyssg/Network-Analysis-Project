{
 "cells": [
  {
   "cell_type": "code",
   "execution_count": 42,
   "metadata": {},
   "outputs": [],
   "source": [
    "import pickle\n",
    "import numpy as np\n",
    "import networkx as nx\n",
    "import matplotlib.pyplot as plt\n",
    "import scipy\n",
    "import warnings\n",
    "import random\n",
    "import sklearn.metrics\n",
    "warnings.filterwarnings('ignore')"
   ]
  },
  {
   "cell_type": "code",
   "execution_count": 3,
   "metadata": {},
   "outputs": [],
   "source": [
    "# pickle load\n",
    "def loadpkl(path):\n",
    "    infile = open(path, 'rb')\n",
    "    obj = pickle.load(infile)\n",
    "    infile.close()\n",
    "    return obj"
   ]
  },
  {
   "cell_type": "code",
   "execution_count": 22,
   "metadata": {},
   "outputs": [],
   "source": [
    "# load the network and centrality\n",
    "#DiG = nx.read_edgelist(path = \"Network-Analysis-Project/citation.edgelist\", create_using=nx.DiGraph())\n",
    "DiG = nx.read_edgelist(path = \"test.edgelist\", create_using=nx.DiGraph())"
   ]
  },
  {
   "cell_type": "code",
   "execution_count": 23,
   "metadata": {},
   "outputs": [],
   "source": [
    "# Remove 25% of the edges (25%)\n",
    "edge_subset = random.sample(DiG.edges(), int(0.25 * DiG.number_of_edges()))\n",
    "DiG_train = DiG.copy()\n",
    "DiG_train.remove_edges_from(edge_subset)"
   ]
  },
  {
   "cell_type": "code",
   "execution_count": 24,
   "metadata": {},
   "outputs": [
    {
     "name": "stdout",
     "output_type": "stream",
     "text": [
      "Deleted :  500\n",
      "Remaining :  1500\n"
     ]
    }
   ],
   "source": [
    "edge_subset_size = len(list(edge_subset))\n",
    "print(\"Deleted : \", str(edge_subset_size))\n",
    "print(\"Remaining : \", str((DiG.number_of_edges() - edge_subset_size)))"
   ]
  },
  {
   "cell_type": "code",
   "execution_count": 25,
   "metadata": {},
   "outputs": [],
   "source": [
    "G_train = DiG_train.to_undirected()"
   ]
  },
  {
   "cell_type": "code",
   "execution_count": 40,
   "metadata": {},
   "outputs": [],
   "source": [
    "# Jaccard Coefficient, for undirected graph\n",
    "pred_jaccard = list(nx.jaccard_coefficient(G_train))\n",
    "score_jaccard, label_jaccard = zip(*[(s, (u,v) in edge_subset) for (u,v,s) in pred_jaccard])"
   ]
  },
  {
   "cell_type": "code",
   "execution_count": 43,
   "metadata": {},
   "outputs": [],
   "source": [
    "# Compute the ROC AUC Score\n",
    "fpr_jaccard, tpr_jaccard, _ = sklearn.metrics.roc_curve(label_jaccard, score_jaccard)\n",
    "auc_jaccard = sklearn.metrics.roc_auc_score(label_jaccard, score_jaccard)"
   ]
  },
  {
   "cell_type": "code",
   "execution_count": 30,
   "metadata": {},
   "outputs": [],
   "source": [
    "# Adamic-Adar Index, for undirected graph\n",
    "pred_adamic = list(nx.adamic_adar_index(G_train))\n",
    "score_adamic, label_adamic = zip(*[(s, (u,v) in edge_subset) for (u,v,s) in pred_adamic])"
   ]
  },
  {
   "cell_type": "code",
   "execution_count": 45,
   "metadata": {},
   "outputs": [],
   "source": [
    "# Compute the ROC AUC Score\n",
    "fpr_adamic, tpr_adamic, _ = sklearn.metrics.roc_curve(label_adamic, score_adamic)\n",
    "auc_adamic = sklearn.metrics.roc_auc_score(label_adamic, score_adamic)"
   ]
  },
  {
   "cell_type": "code",
   "execution_count": 34,
   "metadata": {},
   "outputs": [],
   "source": [
    "# preferential attachment score \n",
    "pred_pref = list(nx.preferential_attachment(G_train))\n",
    "score_pref, label_pref = zip(*[(s, (u,v) in edge_subset) for (u,v,s) in pred_pref])"
   ]
  },
  {
   "cell_type": "code",
   "execution_count": 47,
   "metadata": {},
   "outputs": [],
   "source": [
    "# Compute the ROC AUC Score\n",
    "fpr_pref, tpr_pref, _ = sklearn.metrics.roc_curve(label_pref, score_pref)\n",
    "auc_pref = sklearn.metrics.roc_auc_score(label_pref, score_pref)"
   ]
  },
  {
   "cell_type": "code",
   "execution_count": 50,
   "metadata": {},
   "outputs": [
    {
     "data": {
      "image/png": "[encoded data removed]",
      "text/plain": [
       "<Figure size 432x288 with 1 Axes>"
      ]
     },
     "metadata": {
      "needs_background": "light"
     },
     "output_type": "display_data"
    }
   ],
   "source": [
    "# plot ROC curves\n",
    "plt.clf()\n",
    "plt.plot(fpr_jaccard, tpr_jaccard, color='navy',label='ROC curve (area = %0.2f)' % auc_jaccard)\n",
    "plt.plot(fpr_adamic, tpr_adamic, color='pink',label='ROC curve (area = %0.2f)' % auc_adamic)\n",
    "plt.plot(fpr_pref, tpr_pref, color = 'green', label='ROC curve (area = %0.2f)' % auc_pref)\n",
    "plt.legend(('Jaccard Index','Adamic-Adar Index', 'preferential attachment score'),loc=2)\n",
    "plt.xlabel('False Positive Rate')\n",
    "plt.ylabel('True Positive Rate')\n",
    "plt.title('Receiver operating characteristic')\n",
    "plt.savefig(\"ROC.png\", dpi=200)"
   ]
  }
 ],
 "metadata": {
  "kernelspec": {
   "display_name": "Python 3",
   "language": "python",
   "name": "python3"
  },
  "language_info": {
   "codemirror_mode": {
    "name": "ipython",
    "version": 3
   },
   "file_extension": ".py",
   "mimetype": "text/x-python",
   "name": "python",
   "nbconvert_exporter": "python",
   "pygments_lexer": "ipython3",
   "version": "3.7.2"
  }
 },
 "nbformat": 4,
 "nbformat_minor": 2
}
